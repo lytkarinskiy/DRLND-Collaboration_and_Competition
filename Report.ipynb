{
 "cells": [
  {
   "cell_type": "markdown",
   "metadata": {},
   "source": [
    "### Collaboration And Competition Project"
   ]
  },
  {
   "cell_type": "markdown",
   "metadata": {},
   "source": [
    "Andrey Naumov"
   ]
  },
  {
   "cell_type": "markdown",
   "metadata": {},
   "source": [
    "### Algorithm Overview\n",
    "The agent model is based on the Deep Deterministic Policy Gradients (DDPG) algorithm, which leverages the Actor-Critic networks. Both agents share the same Actor and Critic models. After tuning hyperparameters the environment has been solved with N episodes.\n",
    "\n",
    "***The Actor network hyperparameters:***\n",
    "\n",
    "Hidden layers: 1\n",
    "<br>\n",
    "1st hidden layer nodes (FC): 256\n",
    "<br>\n",
    "Output layer nodes (actions): 4\n",
    "<br>\n",
    "Input parameters (states): 24\n",
    "<br>\n",
    "Activation function: ReLU (except output - tanh)\n",
    "<br>\n",
    "\n",
    "***The Critic network hyperparameters:***\n",
    "\n",
    "Hidden layers: 3\n",
    "<br>\n",
    "1st hidden layer nodes (FC): 256\n",
    "<br>\n",
    "2nd hidden layer nodes (FC): 256\n",
    "<br>\n",
    "3nd hidden layer nodes (FC): 128\n",
    "<br>\n",
    "Output layer nodes (Q-value): 1\n",
    "<br>\n",
    "Input parameters (states): 24\n",
    "<br>\n",
    "Activation function: ReLU"
   ]
  },
  {
   "cell_type": "markdown",
   "metadata": {},
   "source": [
    "### Training\n",
    "The agent model was trained on local machine with 1080GTX GPU. The following hyperparameters were used:\n",
    "\n",
    "Optimizer: Adam\n",
    "<br>\n",
    "Replay buffer size: 1e6\n",
    "<br>\n",
    "Minibatch size: 1024\n",
    "<br>\n",
    "Discount factor (Gamma): 0.99\n",
    "<br>\n",
    "Learning rate (Actor): 1e-3\n",
    "<br>\n",
    "Learning rate (Critic): 1e-4\n",
    "<br>\n",
    "L2 weight decay: 0\n",
    "<br>\n",
    "Tau: 1e-3"
   ]
  },
  {
   "cell_type": "markdown",
   "metadata": {},
   "source": [
    "### Result"
   ]
  },
  {
   "cell_type": "markdown",
   "metadata": {},
   "source": [
    "I solved the environment in 1406 episodes of total 1500. Scores are shown on fig. 1."
   ]
  },
  {
   "cell_type": "markdown",
   "metadata": {},
   "source": [
    "Episode 1390\tAverage Score: 0.41\n",
    "<br>\n",
    "Episode 1400\tAverage Score: 0.44\n",
    "<br>\n",
    "Enviroment solved in @ i_episode=1406, w/ avg_score=0.50\n",
    "<br>\n",
    "Episode 1410\tAverage Score: 0.55\n",
    "<br>\n",
    "***...***\n",
    "<br>\n",
    "Episode 1500\tAverage Score: 1.89"
   ]
  },
  {
   "cell_type": "markdown",
   "metadata": {},
   "source": [
    "Figure 1:![](result.png)"
   ]
  },
  {
   "cell_type": "markdown",
   "metadata": {},
   "source": [
    "### Future Ideas\n",
    "To improve the agent's performance the following techniques can be used:\n",
    "\n",
    "- examine MADDPG (separate Actor/Critic) and tune hyperparameters\n",
    "- change network layers/nodes and choose different hyperparameters\n",
    "- try other algorithms like PPO, A3C or D4PG\n",
    "- use prioritised experience buffer"
   ]
  },
  {
   "cell_type": "code",
   "execution_count": null,
   "metadata": {},
   "outputs": [],
   "source": []
  }
 ],
 "metadata": {
  "kernelspec": {
   "display_name": "Python 3",
   "language": "python",
   "name": "python3"
  },
  "language_info": {
   "codemirror_mode": {
    "name": "ipython",
    "version": 3
   },
   "file_extension": ".py",
   "mimetype": "text/x-python",
   "name": "python",
   "nbconvert_exporter": "python",
   "pygments_lexer": "ipython3",
   "version": "3.6.8"
  }
 },
 "nbformat": 4,
 "nbformat_minor": 2
}
